{
 "cells": [
  {
   "cell_type": "code",
   "execution_count": 0,
   "metadata": {
    "application/vnd.databricks.v1+cell": {
     "cellMetadata": {
      "byteLimit": 2048000,
      "rowLimit": 10000
     },
     "inputWidgets": {},
     "nuid": "f35060b1-d912-4a94-a066-b26fb5edfde0",
     "showTitle": false,
     "tableResultSettingsMap": {},
     "title": ""
    }
   },
   "outputs": [],
   "source": [
    "spark.conf.set(\"spark.sql.adaptive.enabled\", \"false\")\n",
    "spark.conf.set(\"spark.sql.adaptive.skewJoin.enabled\", \"false\")"
   ]
  },
  {
   "cell_type": "code",
   "execution_count": 0,
   "metadata": {
    "application/vnd.databricks.v1+cell": {
     "cellMetadata": {
      "byteLimit": 2048000,
      "rowLimit": 10000
     },
     "inputWidgets": {},
     "nuid": "f365f2e0-e988-4f8c-9e79-e34cbc79306d",
     "showTitle": false,
     "tableResultSettingsMap": {},
     "title": ""
    }
   },
   "outputs": [],
   "source": [
    "from pyspark.sql import SparkSession\n",
    "from pyspark.sql.functions import col, lit, rand, floor\n",
    "\n",
    "spark = SparkSession.builder.appName(\"SkewJoinExample\").getOrCreate()\n",
    "\n",
    "# Create departments DataFrame\n",
    "departments = spark.range(1, 21).withColumnRenamed(\"id\", \"department_id\")\n",
    "departments = departments.withColumn(\"department_name\", \n",
    "    col(\"department_id\").cast(\"string\").alias(\"department_name\")\n",
    ")\n",
    "\n",
    "# departments.write.mode(\"overwrite\").saveAsTable(\"departments\")"
   ]
  },
  {
   "cell_type": "code",
   "execution_count": 0,
   "metadata": {
    "application/vnd.databricks.v1+cell": {
     "cellMetadata": {
      "byteLimit": 2048000,
      "rowLimit": 10000
     },
     "inputWidgets": {},
     "nuid": "bfd7ddf4-af8e-4db2-b1e6-0e2093a746d3",
     "showTitle": false,
     "tableResultSettingsMap": {},
     "title": ""
    }
   },
   "outputs": [],
   "source": [
    "from pyspark.sql.functions import when\n",
    "\n",
    "# Create a large number of employees, with skew on department_id = 1\n",
    "num_employees = 1_000_000\n",
    "\n",
    "employees = (\n",
    "    spark.range(1, num_employees + 1)\n",
    "    .withColumnRenamed(\"id\", \"employee_id\")\n",
    "    .withColumn(\"department_id\", \n",
    "        when(rand() < 0.6, lit(1))  # 60% of employees in department 1 (skew)\n",
    "        .otherwise(floor(rand() * 20 + 1))\n",
    "    )\n",
    "    .withColumn(\"employee_name\", \n",
    "        col(\"employee_id\").cast(\"string\")\n",
    "    )\n",
    ")\n",
    "\n",
    "# employees.write.mode(\"overwrite\").saveAsTable(\"employees\")\n"
   ]
  },
  {
   "cell_type": "code",
   "execution_count": 0,
   "metadata": {
    "application/vnd.databricks.v1+cell": {
     "cellMetadata": {
      "byteLimit": 2048000,
      "rowLimit": 10000
     },
     "inputWidgets": {},
     "nuid": "656dd66c-b109-4fbc-b500-5488920efd2d",
     "showTitle": false,
     "tableResultSettingsMap": {},
     "title": ""
    }
   },
   "outputs": [],
   "source": [
    "join_df = employees.join(departments, on=\"department_id\", how=\"inner\")"
   ]
  },
  {
   "cell_type": "code",
   "execution_count": 0,
   "metadata": {
    "application/vnd.databricks.v1+cell": {
     "cellMetadata": {
      "byteLimit": 2048000,
      "rowLimit": 10000
     },
     "inputWidgets": {},
     "nuid": "c59849cb-5bfc-4c35-a79c-fbad6e2f9efd",
     "showTitle": false,
     "tableResultSettingsMap": {},
     "title": ""
    }
   },
   "outputs": [],
   "source": [
    "display(join_df)"
   ]
  },
  {
   "cell_type": "code",
   "execution_count": 0,
   "metadata": {
    "application/vnd.databricks.v1+cell": {
     "cellMetadata": {},
     "inputWidgets": {},
     "nuid": "00275e78-ff04-46c8-814e-bc7072c62940",
     "showTitle": false,
     "tableResultSettingsMap": {},
     "title": ""
    }
   },
   "outputs": [],
   "source": [
    "join_df2 = employees.hint(\"skew\", \"department_id\").join(departments, \"department_id\")"
   ]
  },
  {
   "cell_type": "code",
   "execution_count": 0,
   "metadata": {
    "application/vnd.databricks.v1+cell": {
     "cellMetadata": {},
     "inputWidgets": {},
     "nuid": "08d87a00-540e-4bfd-a310-f999e7a8e59b",
     "showTitle": false,
     "tableResultSettingsMap": {},
     "title": ""
    }
   },
   "outputs": [],
   "source": [
    "display(join_df2)"
   ]
  }
 ],
 "metadata": {
  "application/vnd.databricks.v1+notebook": {
   "computePreferences": null,
   "dashboards": [],
   "environmentMetadata": {
    "base_environment": "",
    "environment_version": "2"
   },
   "inputWidgetPreferences": null,
   "language": "python",
   "notebookMetadata": {
    "pythonIndentUnit": 4
   },
   "notebookName": "Data Skew (hint)",
   "widgets": {}
  },
  "language_info": {
   "name": "python"
  }
 },
 "nbformat": 4,
 "nbformat_minor": 0
}

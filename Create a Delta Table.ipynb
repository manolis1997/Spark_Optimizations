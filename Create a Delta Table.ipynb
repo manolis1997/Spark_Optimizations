{
 "cells": [
  {
   "cell_type": "code",
   "execution_count": 0,
   "metadata": {
    "application/vnd.databricks.v1+cell": {
     "cellMetadata": {
      "byteLimit": 2048000,
      "rowLimit": 10000
     },
     "inputWidgets": {},
     "nuid": "e38963d1-24d5-45bb-80fd-8b1921873f03",
     "showTitle": false,
     "tableResultSettingsMap": {},
     "title": ""
    }
   },
   "outputs": [],
   "source": [
    "from pyspark.sql import SparkSession\n",
    "import random\n",
    "from datetime import datetime, timedelta\n",
    "\n",
    "# Create a Spark session\n",
    "spark = SparkSession.builder \\\n",
    "    .appName(\"Large DataFrame Example\") \\\n",
    "    .getOrCreate()\n",
    "\n",
    "# Sample function to generate random rows\n",
    "def generate_row(i):\n",
    "    return (\n",
    "        i,\n",
    "        f\"user_{random.randint(1, 100000)}\",\n",
    "        round(random.uniform(100.0, 1000.0), 2),\n",
    "        random.choice([\"A\", \"B\", \"C\", \"D\"]),\n",
    "        datetime(2020, 1, 1) + timedelta(days=random.randint(0, 365 * 3))\n",
    "    )\n",
    "\n",
    "# Generate 1 million rows of data\n",
    "data = [generate_row(i) for i in range(5_000_000)]\n",
    "\n",
    "# Define schema\n",
    "columns = [\"id\", \"username\", \"purchase_amount\", \"category\", \"signup_date\"]\n",
    "\n",
    "# Create DataFrame\n",
    "df = spark.createDataFrame(data, schema=columns)"
   ]
  },
  {
   "cell_type": "code",
   "execution_count": 0,
   "metadata": {
    "application/vnd.databricks.v1+cell": {
     "cellMetadata": {
      "byteLimit": 2048000,
      "rowLimit": 10000
     },
     "inputWidgets": {},
     "nuid": "f72da4aa-5cfc-4fa5-8487-695938836543",
     "showTitle": false,
     "tableResultSettingsMap": {},
     "title": ""
    }
   },
   "outputs": [],
   "source": [
    "df.\\\n",
    "    write.\\\n",
    "    format(\"delta\").\\\n",
    "    mode(\"overwrite\").\\\n",
    "    option(\"path\",\"/test/my_delta_table\").\\\n",
    "    saveAsTable(\"dbw_lakehouse_dev.dev_schema.my_delta_table\")"
   ]
  }
 ],
 "metadata": {
  "application/vnd.databricks.v1+notebook": {
   "computePreferences": null,
   "dashboards": [],
   "environmentMetadata": {
    "base_environment": "",
    "environment_version": "2"
   },
   "inputWidgetPreferences": null,
   "language": "python",
   "notebookMetadata": {
    "mostRecentlyExecutedCommandWithImplicitDF": {
     "commandId": 7987356933015807,
     "dataframes": [
      "_sqldf"
     ]
    },
    "pythonIndentUnit": 4
   },
   "notebookName": "Create a Delta Table",
   "widgets": {}
  },
  "language_info": {
   "name": "python"
  }
 },
 "nbformat": 4,
 "nbformat_minor": 0
}
